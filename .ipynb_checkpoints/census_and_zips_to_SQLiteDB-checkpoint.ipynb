{
 "cells": [
  {
   "cell_type": "code",
   "execution_count": 1,
   "metadata": {
    "collapsed": true
   },
   "outputs": [],
   "source": [
    "import pandas as pd\n",
    "import sqlalchemy\n",
    "from sqlalchemy import create_engine, MetaData\n",
    "from sqlalchemy.ext.declarative import declarative_base\n",
    "from sqlalchemy import Column, Integer, String, Numeric, Text, Float, ForeignKey\n",
    "from sqlalchemy.orm import sessionmaker, relationship"
   ]
  },
  {
   "cell_type": "code",
   "execution_count": 2,
   "metadata": {
    "collapsed": true
   },
   "outputs": [],
   "source": [
    "# create engine to 'census_zips' sqlite db\n",
    "engine = create_engine(\"sqlite:///census_zips.sqlite\")"
   ]
  },
  {
   "cell_type": "code",
   "execution_count": 3,
   "metadata": {
    "collapsed": true
   },
   "outputs": [],
   "source": [
    "# declare the base\n",
    "Base = declarative_base()"
   ]
  },
  {
   "cell_type": "code",
   "execution_count": 4,
   "metadata": {
    "collapsed": true
   },
   "outputs": [],
   "source": [
    "# define the ORM class for 'census_pop' which holds census data for 2010 through 2016 across all US counties\n",
    "class Census_Pop(Base):\n",
    "    __tablename__ = \"census_pop\"\n",
    "    id = Column(Integer, primary_key=True)\n",
    "    state = Column(Text)\n",
    "    county = Column(Text)\n",
    "    pop_2010 = Column(Float)\n",
    "    pop_2011 = Column(Float)\n",
    "    pop_2012 = Column(Float)\n",
    "    pop_2013 = Column(Float)\n",
    "    pop_2014 = Column(Float)\n",
    "    pop_2015 = Column(Float)\n",
    "    pop_2016 = Column(Float)\n",
    "    \n",
    "    def __repr__(self):\n",
    "        return f\"id={self.id}, name={self.county}\""
   ]
  },
  {
   "cell_type": "code",
   "execution_count": 5,
   "metadata": {
    "collapsed": true
   },
   "outputs": [],
   "source": [
    "# define the ORM class for 'zip_to_lat' which holds all lat/lon correlations to US standard zipcodes\n",
    "class Zip_to_Lat(Base):\n",
    "    __tablename__ = \"zip_to_lat\"\n",
    "    id = Column(Integer, primary_key=True)\n",
    "    zip_code = Column(Float)\n",
    "    lat = Column(Float)\n",
    "    lon = Column(Float)\n",
    "    \n",
    "    def __repr__(self):\n",
    "        return f\"id={self.id}, name={self.zip_code}\""
   ]
  },
  {
   "cell_type": "code",
   "execution_count": 6,
   "metadata": {
    "collapsed": true
   },
   "outputs": [],
   "source": [
    "# Create all of the tables\n",
    "Base.metadata.create_all(engine)"
   ]
  },
  {
   "cell_type": "code",
   "execution_count": 7,
   "metadata": {},
   "outputs": [
    {
     "data": {
      "text/plain": [
       "['census_pop', 'zip_to_lat']"
      ]
     },
     "execution_count": 7,
     "metadata": {},
     "output_type": "execute_result"
    }
   ],
   "source": [
    "# verifying tables are created\n",
    "engine.table_names()"
   ]
  },
  {
   "cell_type": "code",
   "execution_count": 8,
   "metadata": {
    "collapsed": true
   },
   "outputs": [],
   "source": [
    "# function to mass insert csv file data in to a sql table\n",
    "def populate_table(engine, table, csvfile):\n",
    "    #connect to engine\n",
    "    conn = engine.connect()\n",
    "    #pandas reads csv file\n",
    "    df_of_data_to_insert = pd.read_csv(csvfile)\n",
    "    #creates dict of records to write\n",
    "    data = df_of_data_to_insert.to_dict(orient=\"records\")\n",
    "    #Deletes all in case they were already there\n",
    "    conn.execute(table.delete())\n",
    "    #pushes the whole dataset at once\n",
    "    conn.execute(table.insert(),data)"
   ]
  },
  {
   "cell_type": "code",
   "execution_count": 9,
   "metadata": {
    "collapsed": true
   },
   "outputs": [],
   "source": [
    "# call populate_table function for each table class\n",
    "populate_table(engine, Census_Pop.__table__, 'Resources/census_pop_2010_2016_county.csv')\n",
    "populate_table(engine, Zip_to_Lat.__table__, 'Resources/zip_codes_to_latlon.csv')"
   ]
  },
  {
   "cell_type": "code",
   "execution_count": 11,
   "metadata": {},
   "outputs": [
    {
     "data": {
      "text/plain": [
       "[(1, 'Alabama', 'Alabama', 4785492.0, 4799918.0, 4815960.0, 4829479.0, 4843214.0, 4853875.0, 4863300.0)]"
      ]
     },
     "execution_count": 11,
     "metadata": {},
     "output_type": "execute_result"
    }
   ],
   "source": [
    "# basic query to validat data is loaded in the db for Census data\n",
    "engine.execute(\"SELECT * FROM census_pop LIMIT 1\").fetchall()"
   ]
  },
  {
   "cell_type": "code",
   "execution_count": 12,
   "metadata": {},
   "outputs": [
    {
     "data": {
      "text/plain": [
       "[(1, 705.0, 18.14, -66.26)]"
      ]
     },
     "execution_count": 12,
     "metadata": {},
     "output_type": "execute_result"
    }
   ],
   "source": [
    "# basic query to validat data is loaded in the db for Zipcode data\n",
    "engine.execute(\"SELECT * FROM zip_to_lat LIMIT 1\").fetchall()"
   ]
  },
  {
   "cell_type": "code",
   "execution_count": null,
   "metadata": {
    "collapsed": true
   },
   "outputs": [],
   "source": []
  }
 ],
 "metadata": {
  "kernelspec": {
   "display_name": "Python 3",
   "language": "python",
   "name": "python3"
  },
  "language_info": {
   "codemirror_mode": {
    "name": "ipython",
    "version": 3
   },
   "file_extension": ".py",
   "mimetype": "text/x-python",
   "name": "python",
   "nbconvert_exporter": "python",
   "pygments_lexer": "ipython3",
   "version": "3.6.3"
  }
 },
 "nbformat": 4,
 "nbformat_minor": 2
}
