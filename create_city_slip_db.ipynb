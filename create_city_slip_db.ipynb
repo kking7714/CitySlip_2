{
 "cells": [
  {
   "cell_type": "code",
   "execution_count": 1,
   "metadata": {
    "collapsed": true
   },
   "outputs": [],
   "source": [
    "import pandas as pd\n",
    "import sqlalchemy\n",
    "from sqlalchemy import create_engine, MetaData\n",
    "from sqlalchemy.ext.declarative import declarative_base\n",
    "from sqlalchemy import Column, Integer, String, Numeric, Text, Float, ForeignKey\n",
    "from sqlalchemy.orm import sessionmaker, relationship"
   ]
  },
  {
   "cell_type": "code",
   "execution_count": 2,
   "metadata": {
    "collapsed": true
   },
   "outputs": [],
   "source": [
    "# create engine to 'city_slip' sqlite db - zip code, score and metadata\n",
    "engine = create_engine(\"sqlite:///city_slip.sqlite\")"
   ]
  },
  {
   "cell_type": "code",
   "execution_count": 3,
   "metadata": {
    "collapsed": true
   },
   "outputs": [],
   "source": [
    "# declare the base\n",
    "Base = declarative_base()"
   ]
  },
  {
   "cell_type": "code",
   "execution_count": 4,
   "metadata": {
    "collapsed": true
   },
   "outputs": [],
   "source": [
    "# define the ORM class for 'city_slip' which holds score and metadata \n",
    "class City_Slip(Base):\n",
    "    __tablename__ = \"city_slip\"\n",
    "    id = Column(Integer, primary_key=True)\n",
    "    zip_code = Column(Integer)\n",
    "    city = Column(Text)\n",
    "    state = Column(Text)\n",
    "    county = Column(Text)\n",
    "    score_date = Column(Text)\n",
    "    avg_home_value = Column(Float)\n",
    "    avg_rent = Column(Float)\n",
    "    re_market_health = Column(Float)\n",
    "    avg_winter_temp = Column(Float)\n",
    "    avg_summer_temp = Column(Float)\n",
    "    total_schools = Column(Integer)\n",
    "    total_pois = Column(Integer)\n",
    "    pop_growth = Column(Float)\n",
    "    sales_tax_rate = Column(Float)\n",
    "    walkability = Column(Float)\n",
    "    crime_risk = Column(Float)\n",
    "    score = Column(Float)\n",
    "    \n",
    "    \n",
    "    def __repr__(self):\n",
    "        return f\"id={self.id}, name={self.zip_code}\""
   ]
  },
  {
   "cell_type": "code",
   "execution_count": 5,
   "metadata": {
    "collapsed": true
   },
   "outputs": [],
   "source": [
    "# Create all of the tables\n",
    "Base.metadata.create_all(engine)"
   ]
  },
  {
   "cell_type": "code",
   "execution_count": 6,
   "metadata": {},
   "outputs": [
    {
     "data": {
      "text/plain": [
       "['city_slip']"
      ]
     },
     "execution_count": 6,
     "metadata": {},
     "output_type": "execute_result"
    }
   ],
   "source": [
    "# verifying tables are created\n",
    "engine.table_names()"
   ]
  },
  {
   "cell_type": "code",
   "execution_count": 7,
   "metadata": {
    "collapsed": true
   },
   "outputs": [],
   "source": [
    "# function to mass insert csv file data in to a sql table\n",
    "def populate_table(engine, table, csvfile):\n",
    "    #connect to engine\n",
    "    conn = engine.connect()\n",
    "    #pandas reads csv file\n",
    "    df_of_data_to_insert = pd.read_csv(csvfile)\n",
    "    #creates dict of records to write\n",
    "    data = df_of_data_to_insert.to_dict(orient=\"records\")\n",
    "    #Deletes all in case they were already there\n",
    "    conn.execute(table.delete())\n",
    "    #pushes the whole dataset at once\n",
    "    conn.execute(table.insert(),data)"
   ]
  },
  {
   "cell_type": "code",
   "execution_count": 8,
   "metadata": {},
   "outputs": [],
   "source": [
    "# call populate_table function for each table class\n",
    "populate_table(engine, City_Slip.__table__, 'Resources/Output.csv')\n"
   ]
  },
  {
   "cell_type": "code",
   "execution_count": 9,
   "metadata": {},
   "outputs": [
    {
     "data": {
      "text/plain": [
       "[(1, 22180, 'VIENNA', 'VA', 'Fairfax County', '1/31/18', 644000.0, 2850.0, 5.670381148, 34.0, 77.6, 107, 412, 0.060751531, 6.0, 74.0, 34.0, 69.51)]"
      ]
     },
     "execution_count": 9,
     "metadata": {},
     "output_type": "execute_result"
    }
   ],
   "source": [
    "# basic query to validat data is loaded in the db \n",
    "engine.execute(\"SELECT * FROM city_slip LIMIT 1\").fetchall()"
   ]
  },
  {
   "cell_type": "code",
   "execution_count": null,
   "metadata": {
    "collapsed": true
   },
   "outputs": [],
   "source": []
  }
 ],
 "metadata": {
  "kernelspec": {
   "display_name": "Python 3",
   "language": "python",
   "name": "python3"
  },
  "language_info": {
   "codemirror_mode": {
    "name": "ipython",
    "version": 3
   },
   "file_extension": ".py",
   "mimetype": "text/x-python",
   "name": "python",
   "nbconvert_exporter": "python",
   "pygments_lexer": "ipython3",
   "version": "3.6.1"
  }
 },
 "nbformat": 4,
 "nbformat_minor": 2
}
