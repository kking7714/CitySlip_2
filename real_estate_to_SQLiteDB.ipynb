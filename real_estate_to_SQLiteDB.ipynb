{
 "cells": [
  {
   "cell_type": "code",
   "execution_count": 1,
   "metadata": {
    "collapsed": true
   },
   "outputs": [],
   "source": [
    "import pandas as pd\n",
    "import sqlalchemy\n",
    "from sqlalchemy import create_engine, MetaData\n",
    "from sqlalchemy.ext.declarative import declarative_base\n",
    "from sqlalchemy import Column, Integer, String, Numeric, Text, Float, ForeignKey\n",
    "from sqlalchemy.orm import sessionmaker, relationship"
   ]
  },
  {
   "cell_type": "code",
   "execution_count": 2,
   "metadata": {
    "collapsed": true
   },
   "outputs": [],
   "source": [
    "# create engine to 'homes_zips' sqlite db\n",
    "engine = create_engine(\"sqlite:///homes_zips.sqlite\")"
   ]
  },
  {
   "cell_type": "code",
   "execution_count": 3,
   "metadata": {
    "collapsed": true
   },
   "outputs": [],
   "source": [
    "# declare the base\n",
    "Base = declarative_base()"
   ]
  },
  {
   "cell_type": "code",
   "execution_count": 4,
   "metadata": {
    "collapsed": true
   },
   "outputs": [],
   "source": [
    "# define the ORM class for 'home_sales' which holds home sales data for 2014-2017 by zip code\n",
    "class Home_Sales(Base):\n",
    "    __tablename__ = \"home_sales\"\n",
    "    id = Column(Integer, primary_key=True)\n",
    "    zip_code = Column(Integer)\n",
    "    city = Column(Text)\n",
    "    state = Column(Text)\n",
    "    county = Column(Text)\n",
    "    s2014_03 = Column(Integer)\n",
    "    s2014_06 = Column(Integer)\n",
    "    s2014_09 = Column(Integer)\n",
    "    s2014_12 = Column(Integer)\n",
    "    s2015_03 = Column(Integer)\n",
    "    s2015_06 = Column(Integer)\n",
    "    s2015_09 = Column(Integer)\n",
    "    s2015_12 = Column(Integer)\n",
    "    s2016_03 = Column(Integer)\n",
    "    s2016_06 = Column(Integer)\n",
    "    s2016_09 = Column(Integer)\n",
    "    s2016_12 = Column(Integer)\n",
    "    s2017_03 = Column(Integer)\n",
    "    s2017_06 = Column(Integer)\n",
    "    s2017_09 = Column(Integer)\n",
    "    s2017_12 = Column(Integer)\n",
    "    \n",
    "    def __repr__(self):\n",
    "        return f\"id={self.id}, name={self.zip_code}\""
   ]
  },
  {
   "cell_type": "code",
   "execution_count": 5,
   "metadata": {
    "collapsed": true
   },
   "outputs": [],
   "source": [
    "# define the ORM class for 'rentals' which holds rental data for 2014-2017 by zip code\n",
    "class Rentals(Base):\n",
    "    __tablename__ = \"rentals\"\n",
    "    id = Column(Integer, primary_key=True)\n",
    "    zip_code = Column(Integer)\n",
    "    city = Column(Text)\n",
    "    state = Column(Text)\n",
    "    county = Column(Text)\n",
    "    r2014_03 = Column(Integer)\n",
    "    r2014_06 = Column(Integer)\n",
    "    r2014_09 = Column(Integer)\n",
    "    r2014_12 = Column(Integer)\n",
    "    r2015_03 = Column(Integer)\n",
    "    r2015_06 = Column(Integer)\n",
    "    r2015_09 = Column(Integer)\n",
    "    r2015_12 = Column(Integer)\n",
    "    r2016_03 = Column(Integer)\n",
    "    r2016_06 = Column(Integer)\n",
    "    r2016_09 = Column(Integer)\n",
    "    r2016_12 = Column(Integer)\n",
    "    r2017_03 = Column(Integer)\n",
    "    r2017_06 = Column(Integer)\n",
    "    r2017_09 = Column(Integer)\n",
    "    r2017_12 = Column(Integer)\n",
    "    \n",
    "    def __repr__(self):\n",
    "        return f\"id={self.id}, name={self.zip_code}\""
   ]
  },
  {
   "cell_type": "code",
   "execution_count": 6,
   "metadata": {
    "collapsed": true
   },
   "outputs": [],
   "source": [
    "# define the ORM class for 'market_health' which holds market data by zip code\n",
    "class Market_Health(Base):\n",
    "    __tablename__ = \"market_health\"\n",
    "    id = Column(Integer, primary_key=True)\n",
    "    zip_code = Column(Integer)\n",
    "    city = Column(Text)\n",
    "    state = Column(Text)\n",
    "    market_health_index = Column(Float)\n",
    "        \n",
    "    def __repr__(self):\n",
    "        return f\"id={self.id}, name={self.zip_code}\""
   ]
  },
  {
   "cell_type": "code",
   "execution_count": 7,
   "metadata": {
    "collapsed": true
   },
   "outputs": [],
   "source": [
    "# Create all of the tables\n",
    "Base.metadata.create_all(engine)"
   ]
  },
  {
   "cell_type": "code",
   "execution_count": 8,
   "metadata": {},
   "outputs": [
    {
     "data": {
      "text/plain": [
       "['home_sales', 'market_health', 'rentals']"
      ]
     },
     "execution_count": 8,
     "metadata": {},
     "output_type": "execute_result"
    }
   ],
   "source": [
    "# verifying tables are created\n",
    "engine.table_names()"
   ]
  },
  {
   "cell_type": "code",
   "execution_count": 9,
   "metadata": {
    "collapsed": true
   },
   "outputs": [],
   "source": [
    "# function to mass insert csv file data in to a sql table\n",
    "def populate_table(engine, table, csvfile):\n",
    "    #connect to engine\n",
    "    conn = engine.connect()\n",
    "    #pandas reads csv file\n",
    "    df_of_data_to_insert = pd.read_csv(csvfile)\n",
    "    #creates dict of records to write\n",
    "    data = df_of_data_to_insert.to_dict(orient=\"records\")\n",
    "    #Deletes all in case they were already there\n",
    "    conn.execute(table.delete())\n",
    "    #pushes the whole dataset at once\n",
    "    conn.execute(table.insert(),data)"
   ]
  },
  {
   "cell_type": "code",
   "execution_count": 10,
   "metadata": {
    "collapsed": true
   },
   "outputs": [],
   "source": [
    "# call populate_table function for each table class\n",
    "populate_table(engine, Home_Sales.__table__, 'Resources/Zip_Zhvi_AllHomes.csv')\n",
    "populate_table(engine, Rentals.__table__, 'Resources/Zip_Zri_AllHomes.csv')"
   ]
  },
  {
   "cell_type": "code",
   "execution_count": 11,
   "metadata": {
    "collapsed": true
   },
   "outputs": [],
   "source": [
    "populate_table(engine, Market_Health.__table__, 'Resources/MarketHealthIndex_Zip.csv')"
   ]
  },
  {
   "cell_type": "code",
   "execution_count": 12,
   "metadata": {},
   "outputs": [
    {
     "data": {
      "text/plain": [
       "[(1, 1001, 'Agawam', 'MA', 'Hampden', 177800, 176600, 177100, 175800, 177900, 181300, 181700, 183200, 183600, 185500, 189100, 193200, 195300, 197600, 200800, 204200)]"
      ]
     },
     "execution_count": 12,
     "metadata": {},
     "output_type": "execute_result"
    }
   ],
   "source": [
    "# basic query to validat data is loaded in the db for Home Data\n",
    "engine.execute(\"SELECT * FROM home_sales LIMIT 1\").fetchall()"
   ]
  },
  {
   "cell_type": "code",
   "execution_count": 13,
   "metadata": {},
   "outputs": [
    {
     "data": {
      "text/plain": [
       "[(1, 1001, 'Agawam', 'MA', 'Hampden', 1353, 1296, 1384, 1426, 1476, 1511, 1491, 1483, 1511, 1529, 1498, 1507, 1519, 1508, 1521, 1521)]"
      ]
     },
     "execution_count": 13,
     "metadata": {},
     "output_type": "execute_result"
    }
   ],
   "source": [
    "# basic query to validat data is loaded in the db for Rental data\n",
    "engine.execute(\"SELECT * FROM rentals LIMIT 1\").fetchall()"
   ]
  },
  {
   "cell_type": "code",
   "execution_count": 14,
   "metadata": {},
   "outputs": [
    {
     "data": {
      "text/plain": [
       "[(1, 1001, 'Agawam', 'MA', 2.181859376)]"
      ]
     },
     "execution_count": 14,
     "metadata": {},
     "output_type": "execute_result"
    }
   ],
   "source": [
    "engine.execute(\"SELECT * FROM market_health LIMIT 1\").fetchall()"
   ]
  }
 ],
 "metadata": {
  "kernelspec": {
   "display_name": "Python 3",
   "language": "python",
   "name": "python3"
  },
  "language_info": {
   "codemirror_mode": {
    "name": "ipython",
    "version": 3
   },
   "file_extension": ".py",
   "mimetype": "text/x-python",
   "name": "python",
   "nbconvert_exporter": "python",
   "pygments_lexer": "ipython3",
   "version": "3.6.1"
  }
 },
 "nbformat": 4,
 "nbformat_minor": 2
}
